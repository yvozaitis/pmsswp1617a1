{
 "cells": [
  {
   "cell_type": "markdown",
   "metadata": {},
   "source": [
    "## Eisagwgi csv arxeiou"
   ]
  },
  {
   "cell_type": "code",
   "execution_count": 3,
   "metadata": {
    "collapsed": false
   },
   "outputs": [
    {
     "name": "stdout",
     "output_type": "stream",
     "text": [
      "[['_:0', 'http://dilab77.ionio.gr/swp/vozaitis/vocab#year', '#:2'], ['_:0', 'http://dilab77.ionio.gr/swp/vozaitis/vocab#dialexh', '#:28/02/2017'], ['_:1', 'http://dilab77.ionio.gr/swp/vozaitis/vocab#Professor', 'http://dilab77.ionio.gr/swp/vozaitis/resource/patelh'], ['_:1', 'http://dilab77.ionio.gr/swp/vozaitis/vocab#course', 'http://dilab77.ionio.gr/swp/vozaitis/resource/epixhrein'], ['_:1', 'http://dilab77.ionio.gr/swp/vozaitis/vocab#class', 'http://dilab77.ionio.gr/swp/vozaitis/resource/aith1'], ['_:1', 'http://dilab77.ionio.gr/swp/vozaitis/vocab#year', '#:2'], ['_:1', 'http://dilab77.ionio.gr/swp/vozaitis/vocab#dialexh', '#:29/02/2017'], ['_:2', 'http://dilab77.ionio.gr/swp/vozaitis/vocab#Professor', 'http://dilab77.ionio.gr/swp/vozaitis/resource/komianos'], ['_:2', 'http://dilab77.ionio.gr/swp/vozaitis/vocab#course', 'http://dilab77.ionio.gr/swp/vozaitis/resource/psixagwgiko'], ['_:2', 'http://dilab77.ionio.gr/swp/vozaitis/vocab#class', 'http://dilab77.ionio.gr/swp/vozaitis/resource/aith1'], ['_:2', 'http://dilab77.ionio.gr/swp/vozaitis/vocab#year', '#:2'], ['_:2', 'http://dilab77.ionio.gr/swp/vozaitis/vocab#dialexh', '#:06/03/17'], ['_:3', 'http://dilab77.ionio.gr/swp/vozaitis/vocab#Professor', 'http://dilab77.ionio.gr/swp/vozaitis/resource/blamos'], ['_:3', 'http://dilab77.ionio.gr/swp/vozaitis/vocab#course', 'http://dilab77.ionio.gr/swp/vozaitis/resource/tpe'], ['_:3', 'http://dilab77.ionio.gr/swp/vozaitis/vocab#class', 'http://dilab77.ionio.gr/swp/vozaitis/resource/aith2'], ['_:3', 'http://dilab77.ionio.gr/swp/vozaitis/vocab#year', '#:2'], ['_:3', 'http://dilab77.ionio.gr/swp/vozaitis/vocab#dialexh', '#:02/03/17'], ['_:4', 'http://dilab77.ionio.gr/swp/vozaitis/vocab#Professor', 'http://dilab77.ionio.gr/swp/vozaitis/resource/tsoxou'], ['_:4', 'http://dilab77.ionio.gr/swp/vozaitis/vocab#course', 'http://dilab77.ionio.gr/swp/vozaitis/resource/security'], ['_:4', 'http://dilab77.ionio.gr/swp/vozaitis/vocab#class', 'http://dilab77.ionio.gr/swp/vozaitis/resource/aith3'], ['_:4', 'http://dilab77.ionio.gr/swp/vozaitis/vocab#year', '#:2'], ['_:4', 'http://dilab77.ionio.gr/swp/vozaitis/vocab#dialexh', '#:06/03/17']]\n"
     ]
    }
   ],
   "source": [
    "import csv\n",
    "\n",
    "with open('uris.csv','r',newline='') as ifp:\n",
    "    \n",
    "    # create csv reader object\n",
    "    reader = csv.reader(ifp)\n",
    "    \n",
    "    # read first row (headers)\n",
    "    headers = next(reader)\n",
    "    eavlist=[]\n",
    "    # process each row\n",
    "    for row in reader:\n",
    "\n",
    "            eavlist.append(row)\n",
    " \n",
    "print(eavlist)"
   ]
  },
  {
   "cell_type": "markdown",
   "metadata": {},
   "source": [
    "## Kataskeyi N-triple"
   ]
  },
  {
   "cell_type": "code",
   "execution_count": 5,
   "metadata": {
    "collapsed": false
   },
   "outputs": [
    {
     "name": "stdout",
     "output_type": "stream",
     "text": [
      "('_:0', '<http://dilab77.ionio.gr/swp/vozaitis/vocab#year>', '\"2\"')\n",
      "('_:0', '<http://dilab77.ionio.gr/swp/vozaitis/vocab#dialexh>', '\"28-02-2017\"')\n",
      "('_:1', '<http://dilab77.ionio.gr/swp/vozaitis/vocab#Professor>', '<http://dilab77.ionio.gr/swp/vozaitis/resource/patelh>')\n",
      "('_:1', '<http://dilab77.ionio.gr/swp/vozaitis/vocab#course>', '<http://dilab77.ionio.gr/swp/vozaitis/resource/epixhrein>')\n",
      "('_:1', '<http://dilab77.ionio.gr/swp/vozaitis/vocab#class>', '<http://dilab77.ionio.gr/swp/vozaitis/resource/aith1>')\n",
      "('_:1', '<http://dilab77.ionio.gr/swp/vozaitis/vocab#year>', '\"2\"')\n",
      "('_:1', '<http://dilab77.ionio.gr/swp/vozaitis/vocab#dialexh>', '\"29-02-2017\"')\n",
      "('_:2', '<http://dilab77.ionio.gr/swp/vozaitis/vocab#Professor>', '<http://dilab77.ionio.gr/swp/vozaitis/resource/komianos>')\n",
      "('_:2', '<http://dilab77.ionio.gr/swp/vozaitis/vocab#course>', '<http://dilab77.ionio.gr/swp/vozaitis/resource/psixagwgiko>')\n",
      "('_:2', '<http://dilab77.ionio.gr/swp/vozaitis/vocab#class>', '<http://dilab77.ionio.gr/swp/vozaitis/resource/aith1>')\n",
      "('_:2', '<http://dilab77.ionio.gr/swp/vozaitis/vocab#year>', '\"2\"')\n",
      "('_:2', '<http://dilab77.ionio.gr/swp/vozaitis/vocab#dialexh>', '\"06-03-17\"')\n",
      "('_:3', '<http://dilab77.ionio.gr/swp/vozaitis/vocab#Professor>', '<http://dilab77.ionio.gr/swp/vozaitis/resource/blamos>')\n",
      "('_:3', '<http://dilab77.ionio.gr/swp/vozaitis/vocab#course>', '<http://dilab77.ionio.gr/swp/vozaitis/resource/tpe>')\n",
      "('_:3', '<http://dilab77.ionio.gr/swp/vozaitis/vocab#class>', '<http://dilab77.ionio.gr/swp/vozaitis/resource/aith2>')\n",
      "('_:3', '<http://dilab77.ionio.gr/swp/vozaitis/vocab#year>', '\"2\"')\n",
      "('_:3', '<http://dilab77.ionio.gr/swp/vozaitis/vocab#dialexh>', '\"02-03-17\"')\n",
      "('_:4', '<http://dilab77.ionio.gr/swp/vozaitis/vocab#Professor>', '<http://dilab77.ionio.gr/swp/vozaitis/resource/tsoxou>')\n",
      "('_:4', '<http://dilab77.ionio.gr/swp/vozaitis/vocab#course>', '<http://dilab77.ionio.gr/swp/vozaitis/resource/security>')\n",
      "('_:4', '<http://dilab77.ionio.gr/swp/vozaitis/vocab#class>', '<http://dilab77.ionio.gr/swp/vozaitis/resource/aith3>')\n",
      "('_:4', '<http://dilab77.ionio.gr/swp/vozaitis/vocab#year>', '\"2\"')\n",
      "('_:4', '<http://dilab77.ionio.gr/swp/vozaitis/vocab#dialexh>', '\"06-03-17\"')\n"
     ]
    }
   ],
   "source": [
    "# εφαρμόστε τις μετατροπές φτιάχνοντας μια νέα λίστα τριάδων\n",
    "import re\n",
    "\n",
    "rexp = re.compile(\"/\")\n",
    "\n",
    "def q_f(m):\n",
    "    return '-'.format(ord(m.group(0)))\n",
    "\n",
    "def date(s):\n",
    "    return rexp.sub(q_f,s)\n",
    "\n",
    "visited = set()\n",
    "triples = []\n",
    "for e,a,v in eavlist:\n",
    "     \n",
    "    if a.startswith('http'):\n",
    "        a = '<'+a+'>' \n",
    "    if v.startswith('http') :\n",
    "         v = '<'+v+'>'\n",
    "    \n",
    "    if a == '<http://dilab77.ionio.gr/swp/vozaitis/vocab#year>':\n",
    "        v = '\"'+v[2:]+'\"'\n",
    "       \n",
    "    if a == '<http://dilab77.ionio.gr/swp/vozaitis/vocab#dialexh>':\n",
    "        v = date('\"'+v[2:]+'\"')\n",
    "    #visited.add(v)   \n",
    "    triples.append((e,a,v))\n",
    "    \n",
    "\n",
    "for i in triples:       \n",
    "    print(i)"
   ]
  },
  {
   "cell_type": "markdown",
   "metadata": {},
   "source": [
    "## Kataskeyi arxeiou N-triple tis morfis\n",
    "```\n",
    "<your-uri> rdf:type <type-of-this-uri> .\n",
    "```"
   ]
  },
  {
   "cell_type": "code",
   "execution_count": 6,
   "metadata": {
    "collapsed": false
   },
   "outputs": [
    {
     "name": "stdout",
     "output_type": "stream",
     "text": [
      "_:0 <http://www.w3.org/1999/02/22-rdf-syntax-ns#type> <http://dilab77.ionio.gr/swp/vozaitis/vocab#Year>\n",
      "_:0 <http://www.w3.org/1999/02/22-rdf-syntax-ns#type> <http://dilab77.ionio.gr/swp/vozaitis/vocab#Dialexh>\n",
      "<http://dilab77.ionio.gr/swp/vozaitis/resource/patelh> <http://www.w3.org/1999/02/22-rdf-syntax-ns#type> <http://dilab77.ionio.gr/swp/vozaitis/vocab#Professor> .\n",
      "<http://dilab77.ionio.gr/swp/vozaitis/resource/epixhrein> <http://www.w3.org/1999/02/22-rdf-syntax-ns#type> <http://dilab77.ionio.gr/swp/vozaitis/vocab#Course> .\n",
      "<http://dilab77.ionio.gr/swp/vozaitis/resource/aith1> <http://www.w3.org/1999/02/22-rdf-syntax-ns#type> <http://dilab77.ionio.gr/swp/vozaitis/vocab#Class> .\n",
      "_:1 <http://www.w3.org/1999/02/22-rdf-syntax-ns#type> <http://dilab77.ionio.gr/swp/vozaitis/vocab#Year>\n",
      "_:1 <http://www.w3.org/1999/02/22-rdf-syntax-ns#type> <http://dilab77.ionio.gr/swp/vozaitis/vocab#Dialexh>\n",
      "<http://dilab77.ionio.gr/swp/vozaitis/resource/komianos> <http://www.w3.org/1999/02/22-rdf-syntax-ns#type> <http://dilab77.ionio.gr/swp/vozaitis/vocab#Professor> .\n",
      "<http://dilab77.ionio.gr/swp/vozaitis/resource/psixagwgiko> <http://www.w3.org/1999/02/22-rdf-syntax-ns#type> <http://dilab77.ionio.gr/swp/vozaitis/vocab#Course> .\n",
      "_:2 <http://www.w3.org/1999/02/22-rdf-syntax-ns#type> <http://dilab77.ionio.gr/swp/vozaitis/vocab#Year>\n",
      "_:2 <http://www.w3.org/1999/02/22-rdf-syntax-ns#type> <http://dilab77.ionio.gr/swp/vozaitis/vocab#Dialexh>\n",
      "<http://dilab77.ionio.gr/swp/vozaitis/resource/blamos> <http://www.w3.org/1999/02/22-rdf-syntax-ns#type> <http://dilab77.ionio.gr/swp/vozaitis/vocab#Professor> .\n",
      "<http://dilab77.ionio.gr/swp/vozaitis/resource/tpe> <http://www.w3.org/1999/02/22-rdf-syntax-ns#type> <http://dilab77.ionio.gr/swp/vozaitis/vocab#Course> .\n",
      "<http://dilab77.ionio.gr/swp/vozaitis/resource/aith2> <http://www.w3.org/1999/02/22-rdf-syntax-ns#type> <http://dilab77.ionio.gr/swp/vozaitis/vocab#Class> .\n",
      "_:3 <http://www.w3.org/1999/02/22-rdf-syntax-ns#type> <http://dilab77.ionio.gr/swp/vozaitis/vocab#Year>\n",
      "_:3 <http://www.w3.org/1999/02/22-rdf-syntax-ns#type> <http://dilab77.ionio.gr/swp/vozaitis/vocab#Dialexh>\n",
      "<http://dilab77.ionio.gr/swp/vozaitis/resource/tsoxou> <http://www.w3.org/1999/02/22-rdf-syntax-ns#type> <http://dilab77.ionio.gr/swp/vozaitis/vocab#Professor> .\n",
      "<http://dilab77.ionio.gr/swp/vozaitis/resource/security> <http://www.w3.org/1999/02/22-rdf-syntax-ns#type> <http://dilab77.ionio.gr/swp/vozaitis/vocab#Course> .\n",
      "<http://dilab77.ionio.gr/swp/vozaitis/resource/aith3> <http://www.w3.org/1999/02/22-rdf-syntax-ns#type> <http://dilab77.ionio.gr/swp/vozaitis/vocab#Class> .\n",
      "_:4 <http://www.w3.org/1999/02/22-rdf-syntax-ns#type> <http://dilab77.ionio.gr/swp/vozaitis/vocab#Year>\n",
      "_:4 <http://www.w3.org/1999/02/22-rdf-syntax-ns#type> <http://dilab77.ionio.gr/swp/vozaitis/vocab#Dialexh>\n"
     ]
    }
   ],
   "source": [
    "# with open('yourfile.nt','w') as ofp:\n",
    "#    for s,p,o in newtriples:\n",
    "#        ofp.write(...)\n",
    "visited = set()\n",
    "with open('myN-triple.nt','w') as ofp:\n",
    "    for e,a,v in triples:\n",
    "        r='<http://www.w3.org/1999/02/22-rdf-syntax-ns#type>'\n",
    "        \n",
    "        if e not in visited and a.endswith('year>'):\n",
    "            visited.add(e)\n",
    "            print(e,r,'<http://dilab77.ionio.gr/swp/vozaitis/vocab#Year>')\n",
    "            print(e,r,'<http://dilab77.ionio.gr/swp/vozaitis/vocab#Dialexh>')\n",
    "\n",
    "            ofp.write('{} {} {} . \\n'.format(e,r,'<http://dilab77.ionio.gr/swp/vozaitis/vocab#Year>'))\n",
    "            ofp.write('{} {} {} . \\n'.format(e,r,'<http://dilab77.ionio.gr/swp/vozaitis/vocab#Dialexh>'))\n",
    "            \n",
    "        \n",
    "            \n",
    "        if a=='<http://dilab77.ionio.gr/swp/vozaitis/vocab#Professor>':\n",
    "\n",
    "            if v not in visited:\n",
    "                visited.add(v)\n",
    "           \n",
    "                print('{} {} {} .'.format(v,r,'<http://dilab77.ionio.gr/swp/vozaitis/vocab#Professor>'))\n",
    "                ofp.write('{} {} {} . \\n'.format(v,r,'<http://dilab77.ionio.gr/swp/vozaitis/vocab#Professor>'))  \n",
    "                \n",
    "        if a=='<http://dilab77.ionio.gr/swp/vozaitis/vocab#class>':\n",
    "\n",
    "             if v not in visited:\n",
    "                visited.add(v)\n",
    " \n",
    "                print('{} {} {} .'.format(v,r,'<http://dilab77.ionio.gr/swp/vozaitis/vocab#Class>'))\n",
    "                ofp.write('{} {} {} . \\n'.format(v,r,'<http://dilab77.ionio.gr/swp/vozaitis/vocab#Class>'))\n",
    "        if a=='<http://dilab77.ionio.gr/swp/vozaitis/vocab#course>':\n",
    "            if v not in visited:\n",
    "                visited.add(v)\n",
    "\n",
    "                print('{} {} {} .'.format(v,r,'<http://dilab77.ionio.gr/swp/vozaitis/vocab#Course>'))\n",
    "                ofp.write('{} {} {} . \\n'.format(v,r,'<http://dilab77.ionio.gr/swp/vozaitis/vocab#Course>'))"
   ]
  },
  {
   "cell_type": "markdown",
   "metadata": {},
   "source": [
    "## 4. Elegxos egkyrotitas arxeioy"
   ]
  },
  {
   "cell_type": "code",
   "execution_count": 8,
   "metadata": {
    "collapsed": false
   },
   "outputs": [],
   "source": [
    "!riot --validate myN-triple.nt"
   ]
  }
 ],
 "metadata": {
  "kernelspec": {
   "display_name": "Python 3",
   "language": "python",
   "name": "python3"
  },
  "language_info": {
   "codemirror_mode": {
    "name": "ipython",
    "version": 3
   },
   "file_extension": ".py",
   "mimetype": "text/x-python",
   "name": "python",
   "nbconvert_exporter": "python",
   "pygments_lexer": "ipython3",
   "version": "3.4.4"
  }
 },
 "nbformat": 4,
 "nbformat_minor": 0
}
